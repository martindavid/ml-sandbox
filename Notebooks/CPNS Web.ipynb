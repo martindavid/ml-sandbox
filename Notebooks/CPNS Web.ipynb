{
 "cells": [
  {
   "cell_type": "code",
   "execution_count": 2,
   "metadata": {},
   "outputs": [],
   "source": [
    "import pandas as pd"
   ]
  },
  {
   "cell_type": "code",
   "execution_count": 3,
   "metadata": {},
   "outputs": [],
   "source": [
    "data = pd.read_json('../result-40e7a65a-fe31-4e83-a17a-2e28eb6772a6.json')"
   ]
  },
  {
   "cell_type": "code",
   "execution_count": 4,
   "metadata": {},
   "outputs": [
    {
     "data": {
      "text/plain": [
       "30000"
      ]
     },
     "execution_count": 4,
     "metadata": {},
     "output_type": "execute_result"
    }
   ],
   "source": [
    "len(data)"
   ]
  },
  {
   "cell_type": "code",
   "execution_count": 5,
   "metadata": {},
   "outputs": [
    {
     "data": {
      "text/html": [
       "<div>\n",
       "<style scoped>\n",
       "    .dataframe tbody tr th:only-of-type {\n",
       "        vertical-align: middle;\n",
       "    }\n",
       "\n",
       "    .dataframe tbody tr th {\n",
       "        vertical-align: top;\n",
       "    }\n",
       "\n",
       "    .dataframe thead th {\n",
       "        text-align: right;\n",
       "    }\n",
       "</style>\n",
       "<table border=\"1\" class=\"dataframe\">\n",
       "  <thead>\n",
       "    <tr style=\"text-align: right;\">\n",
       "      <th></th>\n",
       "      <th>JUM_PENDAFTAR</th>\n",
       "      <th>JUM_PERJAB</th>\n",
       "      <th>ROWNUM</th>\n",
       "    </tr>\n",
       "  </thead>\n",
       "  <tbody>\n",
       "    <tr>\n",
       "      <th>count</th>\n",
       "      <td>30000.000000</td>\n",
       "      <td>30000.000000</td>\n",
       "      <td>30000.000000</td>\n",
       "    </tr>\n",
       "    <tr>\n",
       "      <th>mean</th>\n",
       "      <td>16.293200</td>\n",
       "      <td>1.557567</td>\n",
       "      <td>45000.500000</td>\n",
       "    </tr>\n",
       "    <tr>\n",
       "      <th>std</th>\n",
       "      <td>223.374938</td>\n",
       "      <td>9.625032</td>\n",
       "      <td>8660.398374</td>\n",
       "    </tr>\n",
       "    <tr>\n",
       "      <th>min</th>\n",
       "      <td>0.000000</td>\n",
       "      <td>0.000000</td>\n",
       "      <td>30001.000000</td>\n",
       "    </tr>\n",
       "    <tr>\n",
       "      <th>25%</th>\n",
       "      <td>2.000000</td>\n",
       "      <td>1.000000</td>\n",
       "      <td>37500.750000</td>\n",
       "    </tr>\n",
       "    <tr>\n",
       "      <th>50%</th>\n",
       "      <td>5.000000</td>\n",
       "      <td>1.000000</td>\n",
       "      <td>45000.500000</td>\n",
       "    </tr>\n",
       "    <tr>\n",
       "      <th>75%</th>\n",
       "      <td>12.000000</td>\n",
       "      <td>1.000000</td>\n",
       "      <td>52500.250000</td>\n",
       "    </tr>\n",
       "    <tr>\n",
       "      <th>max</th>\n",
       "      <td>31435.000000</td>\n",
       "      <td>1480.000000</td>\n",
       "      <td>60000.000000</td>\n",
       "    </tr>\n",
       "  </tbody>\n",
       "</table>\n",
       "</div>"
      ],
      "text/plain": [
       "       JUM_PENDAFTAR    JUM_PERJAB        ROWNUM\n",
       "count   30000.000000  30000.000000  30000.000000\n",
       "mean       16.293200      1.557567  45000.500000\n",
       "std       223.374938      9.625032   8660.398374\n",
       "min         0.000000      0.000000  30001.000000\n",
       "25%         2.000000      1.000000  37500.750000\n",
       "50%         5.000000      1.000000  45000.500000\n",
       "75%        12.000000      1.000000  52500.250000\n",
       "max     31435.000000   1480.000000  60000.000000"
      ]
     },
     "execution_count": 5,
     "metadata": {},
     "output_type": "execute_result"
    }
   ],
   "source": [
    "data.describe()"
   ]
  },
  {
   "cell_type": "code",
   "execution_count": 8,
   "metadata": {},
   "outputs": [
    {
     "data": {
      "text/html": [
       "<div>\n",
       "<style scoped>\n",
       "    .dataframe tbody tr th:only-of-type {\n",
       "        vertical-align: middle;\n",
       "    }\n",
       "\n",
       "    .dataframe tbody tr th {\n",
       "        vertical-align: top;\n",
       "    }\n",
       "\n",
       "    .dataframe thead th {\n",
       "        text-align: right;\n",
       "    }\n",
       "</style>\n",
       "<table border=\"1\" class=\"dataframe\">\n",
       "  <thead>\n",
       "    <tr style=\"text-align: right;\">\n",
       "      <th></th>\n",
       "      <th>INSERT_DATE</th>\n",
       "      <th>INS_NM</th>\n",
       "      <th>JAB_NM</th>\n",
       "      <th>JENIS_FORMASI_NM</th>\n",
       "      <th>JUM_PENDAFTAR</th>\n",
       "      <th>JUM_PERJAB</th>\n",
       "      <th>LINK_WEB_INS_DAFTAR</th>\n",
       "      <th>LOKASI_NM</th>\n",
       "      <th>PENDIDIKAN_NM</th>\n",
       "      <th>ROWNUM</th>\n",
       "    </tr>\n",
       "  </thead>\n",
       "  <tbody>\n",
       "    <tr>\n",
       "      <th>0</th>\n",
       "      <td>2018-10-10 15:40:14</td>\n",
       "      <td>PEMERINTAH KAB. PURBALINGGA</td>\n",
       "      <td>TENAGA KESEHATAN</td>\n",
       "      <td>HONORER</td>\n",
       "      <td>0</td>\n",
       "      <td>1</td>\n",
       "      <td>https://drive.google.com/open?id=1PnBzw9BwP7wM...</td>\n",
       "      <td>PUSKESMAS DI LINGKUNGAN DINAS KESEHATAN</td>\n",
       "      <td>D-III BIDANG KESEHATAN</td>\n",
       "      <td>30001</td>\n",
       "    </tr>\n",
       "    <tr>\n",
       "      <th>1</th>\n",
       "      <td>2018-10-10 15:40:14</td>\n",
       "      <td>PEMERINTAH KAB. BANJARNEGARA</td>\n",
       "      <td>GURU BAHASA INDONESIA AHLI PERTAMA</td>\n",
       "      <td>UMUM</td>\n",
       "      <td>27</td>\n",
       "      <td>1</td>\n",
       "      <td>https://drive.google.com/file/d/1_FQ-3yXXaSXrw...</td>\n",
       "      <td>SMPN 2 PEJAWARAN</td>\n",
       "      <td>S-1 PENDIDIKAN BAHASA INDONESIA</td>\n",
       "      <td>30002</td>\n",
       "    </tr>\n",
       "    <tr>\n",
       "      <th>2</th>\n",
       "      <td>2018-10-10 15:40:14</td>\n",
       "      <td>PEMERINTAH KAB. BLORA</td>\n",
       "      <td>GURU KELAS AHLI PERTAMA</td>\n",
       "      <td>UMUM</td>\n",
       "      <td>10</td>\n",
       "      <td>1</td>\n",
       "      <td>https://www.dropbox.com/s/qagszaswtkjxsua/PERU...</td>\n",
       "      <td>SDN SOKO KECAMATAN JEPON</td>\n",
       "      <td>S-1 PENDIDIKAN GURU SEKOLAH DASAR</td>\n",
       "      <td>30003</td>\n",
       "    </tr>\n",
       "    <tr>\n",
       "      <th>3</th>\n",
       "      <td>2018-10-10 15:40:14</td>\n",
       "      <td>PEMERINTAH KAB. BLORA</td>\n",
       "      <td>GURU KELAS AHLI PERTAMA</td>\n",
       "      <td>UMUM</td>\n",
       "      <td>4</td>\n",
       "      <td>1</td>\n",
       "      <td>https://www.dropbox.com/s/qagszaswtkjxsua/PERU...</td>\n",
       "      <td>SDN 1 KETRINGAN KECAMATAN JIKEN</td>\n",
       "      <td>S-1 PENDIDIKAN GURU SEKOLAH DASAR</td>\n",
       "      <td>30004</td>\n",
       "    </tr>\n",
       "    <tr>\n",
       "      <th>4</th>\n",
       "      <td>2018-10-10 15:40:14</td>\n",
       "      <td>PEMERINTAH KAB. BLORA</td>\n",
       "      <td>GURU KELAS AHLI PERTAMA</td>\n",
       "      <td>UMUM</td>\n",
       "      <td>7</td>\n",
       "      <td>1</td>\n",
       "      <td>https://www.dropbox.com/s/qagszaswtkjxsua/PERU...</td>\n",
       "      <td>SDN 1 NGLEBUR KECAMATAN JIKEN</td>\n",
       "      <td>S-1 PENDIDIKAN GURU SEKOLAH DASAR</td>\n",
       "      <td>30005</td>\n",
       "    </tr>\n",
       "  </tbody>\n",
       "</table>\n",
       "</div>"
      ],
      "text/plain": [
       "           INSERT_DATE                        INS_NM  \\\n",
       "0  2018-10-10 15:40:14   PEMERINTAH KAB. PURBALINGGA   \n",
       "1  2018-10-10 15:40:14  PEMERINTAH KAB. BANJARNEGARA   \n",
       "2  2018-10-10 15:40:14         PEMERINTAH KAB. BLORA   \n",
       "3  2018-10-10 15:40:14         PEMERINTAH KAB. BLORA   \n",
       "4  2018-10-10 15:40:14         PEMERINTAH KAB. BLORA   \n",
       "\n",
       "                               JAB_NM JENIS_FORMASI_NM  JUM_PENDAFTAR  \\\n",
       "0                    TENAGA KESEHATAN          HONORER              0   \n",
       "1  GURU BAHASA INDONESIA AHLI PERTAMA             UMUM             27   \n",
       "2             GURU KELAS AHLI PERTAMA             UMUM             10   \n",
       "3             GURU KELAS AHLI PERTAMA             UMUM              4   \n",
       "4             GURU KELAS AHLI PERTAMA             UMUM              7   \n",
       "\n",
       "   JUM_PERJAB                                LINK_WEB_INS_DAFTAR  \\\n",
       "0           1  https://drive.google.com/open?id=1PnBzw9BwP7wM...   \n",
       "1           1  https://drive.google.com/file/d/1_FQ-3yXXaSXrw...   \n",
       "2           1  https://www.dropbox.com/s/qagszaswtkjxsua/PERU...   \n",
       "3           1  https://www.dropbox.com/s/qagszaswtkjxsua/PERU...   \n",
       "4           1  https://www.dropbox.com/s/qagszaswtkjxsua/PERU...   \n",
       "\n",
       "                                 LOKASI_NM                      PENDIDIKAN_NM  \\\n",
       "0  PUSKESMAS DI LINGKUNGAN DINAS KESEHATAN             D-III BIDANG KESEHATAN   \n",
       "1                         SMPN 2 PEJAWARAN    S-1 PENDIDIKAN BAHASA INDONESIA   \n",
       "2                 SDN SOKO KECAMATAN JEPON  S-1 PENDIDIKAN GURU SEKOLAH DASAR   \n",
       "3          SDN 1 KETRINGAN KECAMATAN JIKEN  S-1 PENDIDIKAN GURU SEKOLAH DASAR   \n",
       "4            SDN 1 NGLEBUR KECAMATAN JIKEN  S-1 PENDIDIKAN GURU SEKOLAH DASAR   \n",
       "\n",
       "   ROWNUM  \n",
       "0   30001  \n",
       "1   30002  \n",
       "2   30003  \n",
       "3   30004  \n",
       "4   30005  "
      ]
     },
     "execution_count": 8,
     "metadata": {},
     "output_type": "execute_result"
    }
   ],
   "source": [
    "data."
   ]
  },
  {
   "cell_type": "code",
   "execution_count": 11,
   "metadata": {},
   "outputs": [
    {
     "data": {
      "text/plain": [
       "30000"
      ]
     },
     "execution_count": 11,
     "metadata": {},
     "output_type": "execute_result"
    }
   ],
   "source": [
    "len(data['ROWNUM'].unique())"
   ]
  },
  {
   "cell_type": "code",
   "execution_count": null,
   "metadata": {},
   "outputs": [],
   "source": []
  }
 ],
 "metadata": {
  "kernelspec": {
   "display_name": "Python 3",
   "language": "python",
   "name": "python3"
  },
  "language_info": {
   "codemirror_mode": {
    "name": "ipython",
    "version": 3
   },
   "file_extension": ".py",
   "mimetype": "text/x-python",
   "name": "python",
   "nbconvert_exporter": "python",
   "pygments_lexer": "ipython3",
   "version": "3.7.0"
  }
 },
 "nbformat": 4,
 "nbformat_minor": 2
}
